{
 "cells": [
  {
   "cell_type": "code",
   "execution_count": null,
   "metadata": {},
   "outputs": [],
   "source": []
  },
  {
   "cell_type": "code",
   "execution_count": 2,
   "metadata": {},
   "outputs": [],
   "source": [
    "import torch \n",
    "import torch.nn as nn\n",
    "import torchvision.transforms as transforms\n",
    "import torchvision.datasets as datasets \n",
    "import torch.nn.functional as F\n",
    "import numpy as np\n",
    "import torch.optim as optim"
   ]
  },
  {
   "cell_type": "code",
   "execution_count": 4,
   "metadata": {},
   "outputs": [],
   "source": [
    "device = torch.device(\"cuda:0\" if torch.cuda.is_available() else \"cpu\")"
   ]
  },
  {
   "cell_type": "code",
   "execution_count": 12,
   "metadata": {},
   "outputs": [],
   "source": [
    "class ConvBlock(nn.Module):\n",
    "    \n",
    "    def __init__(self, in_feature, out_feature, num_layers, pool = False):\n",
    "        super(ConvBlock, self).__init__()\n",
    "        channels = [in_feature] + [out_feature for i in range(num_layers)]\n",
    "        layers = []\n",
    "        for i in range(num_layers):\n",
    "            layers.append(nn.Conv2d(channels[i], channels[i+1], kernel_size= 3, padding= 1, bias = True))\n",
    "            layers.append(nn.BatchNorm2d(channels[i+1], affine = True, track_running_stats= True))\n",
    "            layers.append(nn.ReLU())\n",
    "            if pool:\n",
    "                layers.append(nn.MaxPool2d(kernel_size= 2, stride = 2, padding= 0))\n",
    "            \n",
    "        self.op = nn.Sequential(*layers)\n",
    "        \n",
    "    def forward(self, x):\n",
    "        return self.op(x)"
   ]
  },
  {
   "cell_type": "code",
   "execution_count": 13,
   "metadata": {},
   "outputs": [],
   "source": [
    "class Vgg(nn.Module):\n",
    "    \n",
    "    def __init__(self):\n",
    "        super(Vgg, self).__init__()\n",
    "        self.conv_block1 = ConvBlock(3, 64, 2)\n",
    "        self.conv_block2 = ConvBlock(64, 128, 2)\n",
    "        self.conv_block3 = ConvBlock(128, 256, 3)\n",
    "        self.conv_block4 = ConvBlock(256, 512, 3)\n",
    "        self.conv_block5 = ConvBlock(512, 512, 3)\n",
    "        self.fc1 = nn.Linear(in_features= , out_features= 4096)\n",
    "        self.fc2 = nn.Linear(4096, 4096)\n",
    "        self.fc3 = nn.Linear(4096, 10)\n",
    "        \n",
    "    def forward(self, x):\n",
    "        #feed forward\n",
    "        x = self.conv_block1(x)\n",
    "        x = F.max_pool2d(x, kernel_size= 2, stride= 1, padding= 0) # /16\n",
    "        x = self.conv_block2(x)\n",
    "        x = F.max_pool2d(x, kernel_size= 2, stride= 1, padding= 0) # /8\n",
    "        x = self.conv_block3(x)\n",
    "        x = F.max_pool2d(x, kernel_size= 2, stride= 1, padding= 0) # /4\n",
    "        x = self.conv_block4(x)\n",
    "        x = F.max_pool2d(x, kernel_size= 2, stride= 1, padding= 0)\n",
    "        x = self.conv_block5(x)\n",
    "        #x = F.max_pool2d(x, kernel_size= 2, stride= 1, padding= 0)\n",
    "        \n",
    "        l = l.reshape(-1, 4*4*512)\n",
    "        l = self.fc1(l)\n",
    "        l = self.fc2(l)\n",
    "        out = self.fc3(l)\n",
    "        \n",
    "        return F.softmax(out, dim = 1)"
   ]
  },
  {
   "cell_type": "code",
   "execution_count": 33,
   "metadata": {},
   "outputs": [],
   "source": [
    "class Data():\n",
    "    \n",
    "    def __init__(self):\n",
    "        \n",
    "        self.train_set = datasets.CIFAR10(\n",
    "        root = './data',\n",
    "        train = True,\n",
    "        download = True,\n",
    "        transform = transforms.Compose([transforms.ToTensor(), transforms.Normalize((0.1307,), (0.3081,))])\n",
    "        )\n",
    "\n",
    "        self.test_set = datasets.CIFAR10(\n",
    "        root= './data',\n",
    "        train= False,\n",
    "        download = True,\n",
    "        transform = transforms.Compose([transforms.ToTensor(), transforms.Normalize((0.1307,), (0.3081,))])\n",
    "        )\n",
    "        \n",
    "    def get_data(self):\n",
    "        return [self.train_set, self.test_set]"
   ]
  },
  {
   "cell_type": "code",
   "execution_count": 35,
   "metadata": {},
   "outputs": [
    {
     "name": "stdout",
     "output_type": "stream",
     "text": [
      "Files already downloaded and verified\n",
      "Files already downloaded and verified\n"
     ]
    }
   ],
   "source": [
    "data = Data()\n",
    "train, test = data.get_data()"
   ]
  },
  {
   "cell_type": "code",
   "execution_count": 36,
   "metadata": {},
   "outputs": [
    {
     "data": {
      "text/plain": [
       "['airplane',\n",
       " 'automobile',\n",
       " 'bird',\n",
       " 'cat',\n",
       " 'deer',\n",
       " 'dog',\n",
       " 'frog',\n",
       " 'horse',\n",
       " 'ship',\n",
       " 'truck']"
      ]
     },
     "execution_count": 36,
     "metadata": {},
     "output_type": "execute_result"
    }
   ],
   "source": [
    "train.classes"
   ]
  },
  {
   "cell_type": "code",
   "execution_count": null,
   "metadata": {},
   "outputs": [],
   "source": []
  }
 ],
 "metadata": {
  "kernelspec": {
   "display_name": "Python 3",
   "language": "python",
   "name": "python3"
  },
  "language_info": {
   "codemirror_mode": {
    "name": "ipython",
    "version": 3
   },
   "file_extension": ".py",
   "mimetype": "text/x-python",
   "name": "python",
   "nbconvert_exporter": "python",
   "pygments_lexer": "ipython3",
   "version": "3.7.0"
  }
 },
 "nbformat": 4,
 "nbformat_minor": 2
}
